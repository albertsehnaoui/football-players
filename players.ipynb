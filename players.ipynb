{
 "cells": [
  {
   "cell_type": "markdown",
   "source": [
    "# Football Players Analysis\n",
    "\n",
    "Players analysis is going to be performed as follows:\n",
    "\n",
    "1. PySpark **environment setup**\n",
    "2. Data source and **Spark data abstraction** (DataFrame) **set up**\n",
    "3. Data set **metadata analysis**:\n",
    "  1. Display **schema and size** of the DataFrame\n",
    "  2. Get multiple **random samples** from the data set\n",
    "  3. Get specific **one row** from the data set\n",
    "  4. **Columns/fields categorization**\n",
    "4. Columns groups **basic profiling** to better understand our data set:\n",
    "  1. Player General Information columns basic profiling\n",
    "  2. Argentina Team members\n",
    "5. **Answer some business questions** to improve service\n",
    "  1. Sum of IntCaps and IntGoals per Age\n",
    "  2. Pick Top 10 players with good tackling \n",
    "  3. Categorize Strikers\n",
    "\n",
    "Let's go for it:\n",
    "\n",
    "## 1. PySpark environment setup"
   ],
   "metadata": {
    "collapsed": false
   }
  },
  {
   "cell_type": "code",
   "execution_count": 2,
   "outputs": [],
   "source": [
    "import findspark\n",
    "findspark.init()\n",
    "\n",
    "from pyspark.context import SparkContext\n",
    "from pyspark.sql.session import SparkSession\n",
    "\n",
    "sc = SparkContext.getOrCreate()\n",
    "spark = SparkSession(sc)"
   ],
   "metadata": {
    "collapsed": false,
    "pycharm": {
     "name": "#%%\n",
     "is_executing": false
    }
   }
  },
  {
   "cell_type": "markdown",
   "source": [
    "## 2. Data source and Spark data abstraction (DataFrame) setup"
   ],
   "metadata": {
    "collapsed": false
   }
  },
  {
   "cell_type": "code",
   "execution_count": 3,
   "outputs": [],
   "source": [
    "playersDF = spark.read \\\n",
    "                 .option(\"inferSchema\", \"true\") \\\n",
    "                 .option(\"header\", \"true\") \\\n",
    "                 .csv(\"dataset.csv\")"
   ],
   "metadata": {
    "collapsed": false,
    "pycharm": {
     "name": "#%%\n",
     "is_executing": false
    }
   }
  },
  {
   "cell_type": "markdown",
   "source": [
    "## 3. Data set metadata analysis\n",
    "### A. Display schema and size of the DataFrame"
   ],
   "metadata": {
    "collapsed": false,
    "pycharm": {
     "name": "#%% md\n"
    }
   }
  },
  {
   "cell_type": "code",
   "execution_count": 4,
   "outputs": [
    {
     "name": "stdout",
     "text": [
      "root\n |-- UID: integer (nullable = true)\n |-- Name: string (nullable = true)\n |-- NationID: integer (nullable = true)\n |-- Born: string (nullable = true)\n |-- Age: integer (nullable = true)\n |-- IntCaps: integer (nullable = true)\n |-- IntGoals: integer (nullable = true)\n |-- U21Caps: integer (nullable = true)\n |-- U21Goals: integer (nullable = true)\n |-- Height: integer (nullable = true)\n |-- Weight: integer (nullable = true)\n |-- AerialAbility: integer (nullable = true)\n |-- CommandOfArea: integer (nullable = true)\n |-- Communication: integer (nullable = true)\n |-- Eccentricity: integer (nullable = true)\n |-- Handling: integer (nullable = true)\n |-- Kicking: integer (nullable = true)\n |-- OneOnOnes: integer (nullable = true)\n |-- Reflexes: integer (nullable = true)\n |-- RushingOut: integer (nullable = true)\n |-- TendencyToPunch: integer (nullable = true)\n |-- Throwing: integer (nullable = true)\n |-- Corners: integer (nullable = true)\n |-- Crossing: integer (nullable = true)\n |-- Dribbling: integer (nullable = true)\n |-- Finishing: integer (nullable = true)\n |-- FirstTouch: integer (nullable = true)\n |-- Freekicks: integer (nullable = true)\n |-- Heading: integer (nullable = true)\n |-- LongShots: integer (nullable = true)\n |-- Longthrows: integer (nullable = true)\n |-- Marking: integer (nullable = true)\n |-- Passing: integer (nullable = true)\n |-- PenaltyTaking: integer (nullable = true)\n |-- Tackling: integer (nullable = true)\n |-- Technique: integer (nullable = true)\n |-- Aggression: integer (nullable = true)\n |-- Anticipation: integer (nullable = true)\n |-- Bravery: integer (nullable = true)\n |-- Composure: integer (nullable = true)\n |-- Concentration: integer (nullable = true)\n |-- Vision: integer (nullable = true)\n |-- Decisions: integer (nullable = true)\n |-- Determination: integer (nullable = true)\n |-- Flair: integer (nullable = true)\n |-- Leadership: integer (nullable = true)\n |-- OffTheBall: integer (nullable = true)\n |-- Positioning: integer (nullable = true)\n |-- Teamwork: integer (nullable = true)\n |-- Workrate: integer (nullable = true)\n |-- Acceleration: integer (nullable = true)\n |-- Agility: integer (nullable = true)\n |-- Balance: integer (nullable = true)\n |-- Jumping: integer (nullable = true)\n |-- LeftFoot: integer (nullable = true)\n |-- NaturalFitness: integer (nullable = true)\n |-- Pace: integer (nullable = true)\n |-- RightFoot: integer (nullable = true)\n |-- Stamina: integer (nullable = true)\n |-- Strength: integer (nullable = true)\n |-- Consistency: integer (nullable = true)\n |-- Dirtiness: integer (nullable = true)\n |-- ImportantMatches: integer (nullable = true)\n |-- InjuryProness: integer (nullable = true)\n |-- Versatility: integer (nullable = true)\n |-- Adaptability: integer (nullable = true)\n |-- Ambition: integer (nullable = true)\n |-- Loyalty: integer (nullable = true)\n |-- Pressure: integer (nullable = true)\n |-- Professional: integer (nullable = true)\n |-- Sportsmanship: integer (nullable = true)\n |-- Temperament: integer (nullable = true)\n |-- Controversy: integer (nullable = true)\n |-- PositionsDesc: string (nullable = true)\n |-- Goalkeeper: integer (nullable = true)\n |-- Sweeper: integer (nullable = true)\n |-- Striker: integer (nullable = true)\n |-- AttackingMidCentral: integer (nullable = true)\n |-- AttackingMidLeft: integer (nullable = true)\n |-- AttackingMidRight: integer (nullable = true)\n |-- DefenderCentral: integer (nullable = true)\n |-- DefenderLeft: integer (nullable = true)\n |-- DefenderRight: integer (nullable = true)\n |-- DefensiveMidfielder: integer (nullable = true)\n |-- MidfielderCentral: integer (nullable = true)\n |-- MidfielderLeft: integer (nullable = true)\n |-- MidfielderRight: integer (nullable = true)\n |-- WingBackLeft: integer (nullable = true)\n |-- WingBackRight: integer (nullable = true)\n\n"
     ],
     "output_type": "stream"
    },
    {
     "data": {
      "text/plain": "<IPython.core.display.Markdown object>",
      "text/markdown": "This DataFrame has **159541 rows**."
     },
     "metadata": {},
     "output_type": "display_data"
    }
   ],
   "source": [
    "from IPython.display import display, Markdown\n",
    "\n",
    "playersDF.printSchema()\n",
    "display(Markdown(\"This DataFrame has **%d rows**.\" % playersDF.count()))"
   ],
   "metadata": {
    "collapsed": false,
    "pycharm": {
     "name": "#%%\n",
     "is_executing": false
    }
   }
  },
  {
   "cell_type": "markdown",
   "source": [
    "### B. Get multiple random samples from the data set"
   ],
   "metadata": {
    "collapsed": false
   }
  },
  {
   "cell_type": "code",
   "execution_count": 8,
   "outputs": [
    {
     "data": {
      "text/plain": "[Row(UID=1001575, Name='Liu Quankun', NationID=111, Born='17-02-1983', Age=33, IntCaps=5, IntGoals=0, U21Caps=0, U21Goals=0, Height=186, Weight=85, AerialAbility=2, CommandOfArea=2, Communication=2, Eccentricity=1, Handling=2, Kicking=3, OneOnOnes=3, Reflexes=2, RushingOut=3, TendencyToPunch=1, Throwing=1, Corners=2, Crossing=2, Dribbling=5, Finishing=3, FirstTouch=8, Freekicks=4, Heading=9, LongShots=6, Longthrows=1, Marking=11, Passing=4, PenaltyTaking=6, Tackling=10, Technique=4, Aggression=12, Anticipation=11, Bravery=10, Composure=5, Concentration=6, Vision=4, Decisions=7, Determination=12, Flair=4, Leadership=10, OffTheBall=3, Positioning=11, Teamwork=9, Workrate=9, Acceleration=6, Agility=12, Balance=8, Jumping=8, LeftFoot=8, NaturalFitness=9, Pace=6, RightFoot=20, Stamina=11, Strength=12, Consistency=12, Dirtiness=17, ImportantMatches=6, InjuryProness=5, Versatility=8, Adaptability=13, Ambition=13, Loyalty=13, Pressure=7, Professional=13, Sportsmanship=2, Temperament=2, Controversy=16, PositionsDesc='D RC', Goalkeeper=1, Sweeper=1, Striker=1, AttackingMidCentral=1, AttackingMidLeft=1, AttackingMidRight=1, DefenderCentral=20, DefenderLeft=10, DefenderRight=17, DefensiveMidfielder=13, MidfielderCentral=1, MidfielderLeft=1, MidfielderRight=1, WingBackLeft=1, WingBackRight=1),\n Row(UID=1001591, Name='Li Xuepeng', NationID=110, Born='18-09-1988', Age=27, IntCaps=19, IntGoals=0, U21Caps=0, U21Goals=0, Height=181, Weight=75, AerialAbility=1, CommandOfArea=1, Communication=1, Eccentricity=1, Handling=3, Kicking=1, OneOnOnes=3, Reflexes=2, RushingOut=2, TendencyToPunch=2, Throwing=2, Corners=8, Crossing=12, Dribbling=10, Finishing=9, FirstTouch=10, Freekicks=8, Heading=12, LongShots=7, Longthrows=12, Marking=8, Passing=11, PenaltyTaking=5, Tackling=9, Technique=10, Aggression=10, Anticipation=7, Bravery=12, Composure=8, Concentration=7, Vision=8, Decisions=9, Determination=9, Flair=8, Leadership=9, OffTheBall=11, Positioning=8, Teamwork=11, Workrate=8, Acceleration=12, Agility=11, Balance=14, Jumping=11, LeftFoot=20, NaturalFitness=7, Pace=12, RightFoot=12, Stamina=10, Strength=12, Consistency=9, Dirtiness=8, ImportantMatches=8, InjuryProness=14, Versatility=15, Adaptability=12, Ambition=11, Loyalty=14, Pressure=8, Professional=10, Sportsmanship=8, Temperament=6, Controversy=11, PositionsDesc='D/M/AM LC', Goalkeeper=1, Sweeper=1, Striker=1, AttackingMidCentral=1, AttackingMidLeft=17, AttackingMidRight=1, DefenderCentral=18, DefenderLeft=20, DefenderRight=1, DefensiveMidfielder=14, MidfielderCentral=1, MidfielderLeft=16, MidfielderRight=1, WingBackLeft=9, WingBackRight=1),\n Row(UID=1002291, Name='Hon Shing', NationID=111, Born='14-04-1987', Age=29, IntCaps=0, IntGoals=0, U21Caps=0, U21Goals=0, Height=175, Weight=64, AerialAbility=1, CommandOfArea=3, Communication=2, Eccentricity=1, Handling=1, Kicking=3, OneOnOnes=3, Reflexes=2, RushingOut=3, TendencyToPunch=3, Throwing=2, Corners=4, Crossing=4, Dribbling=3, Finishing=6, FirstTouch=5, Freekicks=1, Heading=1, LongShots=6, Longthrows=1, Marking=4, Passing=9, PenaltyTaking=3, Tackling=3, Technique=7, Aggression=7, Anticipation=7, Bravery=6, Composure=7, Concentration=4, Vision=12, Decisions=12, Determination=5, Flair=7, Leadership=9, OffTheBall=8, Positioning=5, Teamwork=6, Workrate=11, Acceleration=13, Agility=12, Balance=3, Jumping=8, LeftFoot=5, NaturalFitness=10, Pace=12, RightFoot=20, Stamina=8, Strength=7, Consistency=7, Dirtiness=7, ImportantMatches=5, InjuryProness=5, Versatility=7, Adaptability=14, Ambition=11, Loyalty=11, Pressure=11, Professional=12, Sportsmanship=9, Temperament=11, Controversy=3, PositionsDesc='AM C', Goalkeeper=1, Sweeper=1, Striker=1, AttackingMidCentral=20, AttackingMidLeft=1, AttackingMidRight=1, DefenderCentral=1, DefenderLeft=1, DefenderRight=1, DefensiveMidfielder=1, MidfielderCentral=1, MidfielderLeft=1, MidfielderRight=1, WingBackLeft=1, WingBackRight=1),\n Row(UID=1002901, Name='Han Kun', NationID=110, Born='16-01-1983', Age=33, IntCaps=0, IntGoals=0, U21Caps=0, U21Goals=0, Height=188, Weight=84, AerialAbility=9, CommandOfArea=12, Communication=11, Eccentricity=5, Handling=10, Kicking=9, OneOnOnes=10, Reflexes=9, RushingOut=13, TendencyToPunch=5, Throwing=13, Corners=4, Crossing=1, Dribbling=1, Finishing=1, FirstTouch=1, Freekicks=7, Heading=1, LongShots=2, Longthrows=2, Marking=1, Passing=1, PenaltyTaking=1, Tackling=3, Technique=3, Aggression=7, Anticipation=5, Bravery=9, Composure=5, Concentration=9, Vision=4, Decisions=13, Determination=1, Flair=2, Leadership=9, OffTheBall=1, Positioning=11, Teamwork=5, Workrate=4, Acceleration=7, Agility=7, Balance=13, Jumping=9, LeftFoot=1, NaturalFitness=13, Pace=7, RightFoot=20, Stamina=4, Strength=13, Consistency=18, Dirtiness=7, ImportantMatches=10, InjuryProness=7, Versatility=7, Adaptability=10, Ambition=10, Loyalty=10, Pressure=10, Professional=9, Sportsmanship=11, Temperament=11, Controversy=2, PositionsDesc='GK ', Goalkeeper=20, Sweeper=1, Striker=1, AttackingMidCentral=1, AttackingMidLeft=1, AttackingMidRight=1, DefenderCentral=1, DefenderLeft=1, DefenderRight=1, DefensiveMidfielder=1, MidfielderCentral=1, MidfielderLeft=1, MidfielderRight=1, WingBackLeft=1, WingBackRight=1),\n Row(UID=1003004, Name='Li Hènan', NationID=110, Born='02-04-1985', Age=31, IntCaps=0, IntGoals=0, U21Caps=0, U21Goals=0, Height=185, Weight=80, AerialAbility=3, CommandOfArea=3, Communication=1, Eccentricity=1, Handling=1, Kicking=4, OneOnOnes=2, Reflexes=2, RushingOut=3, TendencyToPunch=1, Throwing=1, Corners=1, Crossing=1, Dribbling=2, Finishing=1, FirstTouch=3, Freekicks=1, Heading=5, LongShots=1, Longthrows=1, Marking=12, Passing=3, PenaltyTaking=1, Tackling=10, Technique=1, Aggression=6, Anticipation=4, Bravery=4, Composure=1, Concentration=7, Vision=1, Decisions=12, Determination=4, Flair=6, Leadership=1, OffTheBall=2, Positioning=6, Teamwork=2, Workrate=3, Acceleration=3, Agility=8, Balance=3, Jumping=10, LeftFoot=5, NaturalFitness=13, Pace=7, RightFoot=20, Stamina=3, Strength=5, Consistency=6, Dirtiness=6, ImportantMatches=6, InjuryProness=6, Versatility=6, Adaptability=19, Ambition=13, Loyalty=10, Pressure=11, Professional=13, Sportsmanship=10, Temperament=18, Controversy=5, PositionsDesc='D C', Goalkeeper=1, Sweeper=1, Striker=1, AttackingMidCentral=1, AttackingMidLeft=1, AttackingMidRight=1, DefenderCentral=20, DefenderLeft=1, DefenderRight=1, DefensiveMidfielder=1, MidfielderCentral=1, MidfielderLeft=1, MidfielderRight=1, WingBackLeft=1, WingBackRight=1)]"
     },
     "metadata": {},
     "output_type": "execute_result",
     "execution_count": 8
    }
   ],
   "source": [
    "playersDF.cache() # optimization to make the processing faster\n",
    "playersDF.sample(False, 0.1).take(5)"
   ],
   "metadata": {
    "collapsed": false,
    "pycharm": {
     "name": "#%%\n",
     "is_executing": false
    }
   }
  },
  {
   "cell_type": "markdown",
   "source": [
    "### C. Get one row from the data set"
   ],
   "metadata": {
    "collapsed": false
   }
  },
  {
   "cell_type": "code",
   "execution_count": 6,
   "outputs": [
    {
     "name": "stdout",
     "text": [
      "+-------+------------+----------+---+------+------+-------+--------+\n|    UID|        Name|      Born|Age|Height|Weight|IntCaps|IntGoals|\n+-------+------------+----------+---+------+------+-------+--------+\n|7458500|Lionel Messi|24-06-1987| 29|   170|    72|    113|      55|\n+-------+------------+----------+---+------+------+-------+--------+\n\n"
     ],
     "output_type": "stream"
    }
   ],
   "source": [
    "playersDF.where(\"Name = 'Lionel Messi'\")\\\n",
    "    .select(\"UID\", \"Name\", \"Born\", \"Age\", \"Height\", \"Weight\", \"IntCaps\", \"IntGoals\")\\\n",
    "    .show()"
   ],
   "metadata": {
    "collapsed": false,
    "pycharm": {
     "name": "#%%\n",
     "is_executing": false
    }
   }
  },
  {
   "cell_type": "markdown",
   "source": [
    "\n",
    "### D. Column categorization\n",
    "\n",
    "The following could be a potential column categorization:\n",
    "\n",
    "* **Player General Information columns:** *UID*, *Name*, *National ID*, *Born*, *Age*, *IntCaps*, *IntGoals*, *U21Caps*, *U21Goals*, *Height*, *Weight*, *CommandOfArea* ...\n",
    "* **Player Ability  Information columns:** *Kicking*, *Reflexes*, *RushingOut*, *TendencyToPunch*, *Throwing* ...\n",
    "\n",
    "## 4. Columns groups basic profiling to better understand our data set\n",
    "### A. Player General Information columns basic profiling"
   ],
   "metadata": {
    "collapsed": false
   }
  },
  {
   "cell_type": "code",
   "execution_count": 6,
   "outputs": [
    {
     "name": "stdout",
     "text": [
      "Summary of Player General Information:\n",
      "+-------+----------+----------+------+------+------+-------+--------+\n|summary|       UID|      Born|   Age|Height|Weight|IntCaps|IntGoals|\n+-------+----------+----------+------+------+------+-------+--------+\n|  count|    159541|    159541|159541|159541|159541| 159541|  159541|\n|    min|       510|01-01-1972|    14|   149|     0|      0|       0|\n|    25%|  19022374|      null|    19|   175|     0|      0|       0|\n|    50%|  41044730|      null|    23|   180|    68|      0|       0|\n|    75%|  67232682|      null|    27|   185|    75|      0|       0|\n|    max|1394673938|31-12-1999|    54|   210|   118|    166|      65|\n+-------+----------+----------+------+------+------+-------+--------+\n\nChecking for nulls on general columns :\n",
      "+---+----+----+---+------+------+-------+--------+\n|UID|Name|Born|Age|Height|Weight|IntCaps|IntGoals|\n+---+----+----+---+------+------+-------+--------+\n|  0|   0|   0|  0|     0|     0|      0|       0|\n+---+----+----+---+------+------+-------+--------+\n\nChecking amount of distinct values on general columns\n",
      "+------+------+----+---+------+------+-------+--------+\n|   UID|  Name|Born|Age|Height|Weight|IntCaps|IntGoals|\n+------+------+----+---+------+------+-------+--------+\n|159541|148640|9474| 40|    61|    61|    145|      60|\n+------+------+----+---+------+------+-------+--------+\n\nSummary of Player Attacking Ability Information:\n",
      "+-------+-------------------+----------------+-----------------+\n|summary|AttackingMidCentral|AttackingMidLeft|AttackingMidRight|\n+-------+-------------------+----------------+-----------------+\n|  count|             159541|          159541|           159541|\n|    min|                  1|               1|                1|\n|    25%|                  1|               1|                1|\n|    50%|                  1|               1|                1|\n|    75%|                  1|               1|                1|\n|    max|                 20|              20|               20|\n+-------+-------------------+----------------+-----------------+\n\n10 Most used Age:\n",
      "+---+-----+\n|Age|Count|\n+---+-----+\n| 16|12988|\n| 19|11272|\n| 20|10935|\n| 18|10629|\n| 21|10527|\n| 22| 9769|\n| 23| 9575|\n| 17| 8965|\n| 24| 8730|\n| 25| 8426|\n+---+-----+\nonly showing top 10 rows\n\n10 Least used Age:\n",
      "+---+-----+\n|Age|Count|\n+---+-----+\n| 53|    1|\n| 51|    2|\n| 49|    4|\n| 54|    4|\n| 50|    5|\n| 47|    7|\n| 48|   14|\n| 46|   14|\n| 45|   24|\n| 44|   43|\n+---+-----+\nonly showing top 10 rows\n\n"
     ],
     "output_type": "stream"
    }
   ],
   "source": [
    "from pyspark.sql.functions import when, count, col, countDistinct, desc, lit\n",
    "\n",
    "generalColumns = [\"UID\", \"Name\", \"Born\", \"Age\", \"Height\", \"Weight\", \"IntCaps\", \"IntGoals\"]\n",
    "\n",
    "print (\"Summary of Player General Information:\")\n",
    "playersDF.select(\"UID\", \"Born\", \"Age\", \"Height\", \"Weight\", \"IntCaps\", \"IntGoals\")\\\n",
    "    .summary(\"count\", \"min\", \"25%\", \"50%\", \"75%\", \"max\")\\\n",
    "    .show(truncate=12)\n",
    "\n",
    "print(\"Checking for nulls on general columns :\")\n",
    "playersDF.select([count(when(col(c).isNull(), c)).alias(c) for c in generalColumns]).show()\n",
    "\n",
    "print(\"Checking amount of distinct values on general columns\")\n",
    "playersDF.select([countDistinct(c).alias(c) for c in generalColumns]).show()\n",
    "\n",
    "print (\"Summary of Player Attacking Ability Information:\")\n",
    "playersDF.select(\"AttackingMidCentral\", \"AttackingMidLeft\", \"AttackingMidRight\")\\\n",
    "    .summary(\"count\", \"min\", \"25%\", \"50%\", \"75%\", \"max\")\\\n",
    "    .show(truncate=12)\n",
    "\n",
    "ageOccurrencesDF = playersDF.where('Age > 1')\\\n",
    "    .groupBy(\"Age\")\\\n",
    "    .agg(count(lit(1)).alias(\"Count\"))\n",
    "\n",
    "print (\"10 Most used Age:\")\n",
    "\n",
    "ageOccurrencesDF.orderBy(col(\"Count\").desc()).show(n=10)\n",
    "\n",
    "print (\"10 Least used Age:\")\n",
    "ageOccurrencesDF.orderBy(col(\"Count\").asc()).show(n=10)\n"
   ],
   "metadata": {
    "collapsed": false,
    "pycharm": {
     "name": "#%%\n",
     "is_executing": false
    }
   }
  },
  {
   "cell_type": "markdown",
   "source": [
    "\n",
    "### B. Argentina Team members"
   ],
   "metadata": {
    "collapsed": false
   }
  },
  {
   "cell_type": "code",
   "execution_count": 7,
   "outputs": [
    {
     "name": "stdout",
     "text": [
      "Summary of Argentina Team:\n",
      "+-------+----------+----------+----+------+------+-------+--------+\n|summary|       UID|      Born| Age|Height|Weight|IntCaps|IntGoals|\n+-------+----------+----------+----+------+------+-------+--------+\n|  count|      8596|      8596|8596|  8596|  8596|   8596|    8596|\n|    min|     12545|01-01-1984|  15|   153|     0|      0|       0|\n|    25%|  14023214|      null|  21|   199|     0|      0|       0|\n|    50%|  14077415|      null|  24|   199|    67|      0|       0|\n|    75%|1394670531|      null|  48|   199|   102|      0|       0|\n|    max|1394670531|31-12-1997|  48|   199|   102|    129|      55|\n+-------+----------+----------+----+------+------+-------+--------+\n\nPlayers in Argentina Team:\n",
      "+--------------------+----------+---+--------------+--------------+-------+--------+\n|                Name|      Born|Age|Height(Height)|Weight(Weight)|IntCaps|IntGoals|\n+--------------------+----------+---+--------------+--------------+-------+--------+\n|        Lionel Messi|24-06-1987| 29|         170cm|          72kg|    113|      55|\n|       Sergio Agüero|02-06-1988| 28|         172cm|          74kg|     77|      33|\n|     Gonzalo Higuaín|10-12-1987| 28|         184cm|          82kg|     63|      30|\n|        Carlos Tevez|05-02-1984| 32|         173cm|          75kg|     76|      16|\n|      Maxi Rodríguez|02-01-1981| 35|         180cm|          74kg|     57|      16|\n|      Ángel Di María|14-02-1988| 28|         180cm|          70kg|     66|      15|\n|      Javier Saviola|11-12-1981| 34|         168cm|          60kg|     40|      11|\n|Juan Sebastián Verón|09-03-1975| 41|         186cm|          79kg|     73|       9|\n|         Pablo Aimar|03-11-1979| 36|         170cm|          62kg|     52|       8|\n|      Lucho González|19-01-1981| 35|         185cm|          75kg|     45|       6|\n|         Ever Banega|29-06-1988| 28|         174cm|          71kg|     42|       5|\n|   Esteban Cambiasso|18-08-1980| 35|         178cm|          73kg|     52|       5|\n|    Ezequiel Lavezzi|03-05-1985| 31|         173cm|          75kg|     18|       4|\n|   Javier Mascherano|08-06-1984| 32|         174cm|          73kg|    129|       3|\n| Andrés D'Alessandro|15-04-1981| 35|         174cm|          68kg|     25|       3|\n|     Rodrigo Palacio|05-02-1982| 34|         175cm|          70kg|     27|       3|\n|         Erik Lamela|04-03-1992| 24|         183cm|          79kg|     22|       3|\n|  Federico Fernández|21-02-1989| 27|         189cm|          81kg|     32|       3|\n|      Gabriel Hauche|27-11-1986| 29|         168cm|          71kg|      5|       3|\n|        Jesús Dátolo|19-05-1984| 32|         177cm|          72kg|      2|       2|\n|    Nicolás Otamendi|12-02-1988| 28|         183cm|          81kg|     38|       2|\n|         Marcos Rojo|20-03-1990| 26|         187cm|          80kg|     49|       2|\n|   Gonzalo Bergessio|20-07-1984| 31|         178cm|          77kg|      3|       2|\n|      Nicolás Gaitán|23-02-1988| 28|         172cm|          68kg|     19|       2|\n|   Facundo Bertoglio|30-06-1990| 26|         172cm|          66kg|      1|       2|\n|       César Delgado|18-08-1981| 34|         174cm|          69kg|     20|       2|\n|      Ignacio Scocco|29-05-1985| 31|         176cm|          72kg|      1|       2|\n|     Gabriel Mercado|18-03-1987| 29|         180cm|          83kg|     10|       2|\n|        Pablo Mouche|11-10-1987| 28|         175cm|          74kg|      5|       2|\n|    Nicolás Burdisso|12-04-1981| 35|         182cm|          81kg|     49|       2|\n+--------------------+----------+---+--------------+--------------+-------+--------+\nonly showing top 30 rows\n\n"
     ],
     "output_type": "stream"
    }
   ],
   "source": [
    "from pyspark.sql.functions import count, col, desc, lit, udf\n",
    "from decimal import *\n",
    "@udf\n",
    "def Height(value):\n",
    "    return str(value) + \"cm\"\n",
    "\n",
    "@udf\n",
    "def Weight(value):\n",
    "    return str(value) + \"kg\"\n",
    "\n",
    "ArgentinaTeamDF = playersDF.where(\"NationID = 1649\")\n",
    "print (\"Summary of Argentina Team:\")\n",
    "ArgentinaTeamDF.select(\"UID\", \"Born\", \"Age\", \"Height\", \"Weight\", \"IntCaps\", \"IntGoals\")\\\n",
    "    .summary(\"count\", \"min\", \"25%\", \"50%\", \"75%\", \"max\")\\\n",
    "    .show(truncate=12)\n",
    "\n",
    "print(\"Players in Argentina Team:\")\n",
    "ArgentinaTeamDF.select(\"Name\", \"Born\", \"Age\",Height(\"Height\"), Weight(\"Weight\"), \"IntCaps\", \"IntGoals\")\\\n",
    "    .orderBy(col(\"IntGoals\").desc())\\\n",
    "    .show(30)\n"
   ],
   "metadata": {
    "collapsed": false,
    "pycharm": {
     "name": "#%%\n",
     "is_executing": false
    }
   }
  },
  {
   "cell_type": "markdown",
   "source": [
    "\n",
    "## 5. Answer some business questions to improve service\n",
    "### A. Sum of IntCaps and IntGoals per Age"
   ],
   "metadata": {
    "collapsed": false,
    "pycharm": {
     "name": "#%% md\n"
    }
   }
  },
  {
   "cell_type": "code",
   "execution_count": 24,
   "outputs": [
    {
     "name": "stdout",
     "text": [
      "+---+-------+--------+\n|Age|IntCaps|IntGoals|\n+---+-------+--------+\n|35 |166    |65      |\n|38 |161    |65      |\n|31 |161    |61      |\n|34 |153    |62      |\n|33 |148    |57      |\n|37 |146    |54      |\n|43 |143    |4       |\n|36 |138    |64      |\n|30 |136    |53      |\n|39 |135    |29      |\n|40 |134    |12      |\n|32 |133    |50      |\n|29 |130    |55      |\n|28 |121    |45      |\n|41 |121    |16      |\n|26 |95     |34      |\n|27 |94     |35      |\n|24 |70     |46      |\n|25 |70     |31      |\n|42 |67     |3       |\n|45 |60     |10      |\n|23 |58     |18      |\n|22 |40     |11      |\n|50 |39     |5       |\n|21 |34     |22      |\n|20 |31     |10      |\n|18 |29     |11      |\n|53 |25     |1       |\n|44 |24     |1       |\n|19 |20     |6       |\n|48 |17     |1       |\n|17 |13     |4       |\n|16 |4      |1       |\n|46 |1      |0       |\n|54 |0      |0       |\n|51 |0      |0       |\n|49 |0      |0       |\n|47 |0      |0       |\n|15 |0      |0       |\n|14 |0      |0       |\n+---+-------+--------+\n\n"
     ],
     "output_type": "stream"
    }
   ],
   "source": [
    "from pyspark.sql.functions import count, max, col, desc, lit\n",
    "\n",
    "ageGroupDF = playersDF.groupBy('Age') \n",
    "ageGroupDF\\\n",
    "    .agg(max(\"IntCaps\").alias(\"IntCaps\"), max(\"IntGoals\").alias(\"IntGoals\"))\\\n",
    "    .orderBy(col(\"IntCaps\").desc(), col(\"IntGoals\").desc(), col(\"Age\").desc())\\\n",
    "    .show(ageGroupDF.count().count(), truncate=False)\n"
   ],
   "metadata": {
    "collapsed": false,
    "pycharm": {
     "name": "#%%\n",
     "is_executing": false
    }
   }
  },
  {
   "cell_type": "markdown",
   "source": [
    "\n",
    "### B. Pick Top 10 players with good tackling"
   ],
   "metadata": {
    "collapsed": false
   }
  },
  {
   "cell_type": "code",
   "execution_count": 17,
   "outputs": [
    {
     "name": "stdout",
     "text": [
      "+-------------------------+---+------+------+--------+\n|Name                     |Age|Height|Weight|Tackling|\n+-------------------------+---+------+------+--------+\n|Javier Mascherano        |32 |174   |73    |20      |\n|Laurent Koscielny        |30 |186   |75    |19      |\n|Jan Mikula               |24 |183   |77    |19      |\n|Radja Nainggolan         |28 |176   |65    |19      |\n|Sokratis Papastathopoulos|28 |186   |85    |19      |\n|Ljubomir Fejsa           |27 |183   |83    |18      |\n|Dante                    |32 |187   |82    |18      |\n|Sven Bender              |27 |186   |80    |18      |\n|Giorgio Chiellini        |31 |187   |86    |18      |\n|Kyriakos Papadopoulos    |24 |182   |79    |18      |\n|Medhi Benatia            |29 |190   |92    |18      |\n|Jérôme Boateng           |27 |192   |90    |18      |\n|Tomás Rincón             |28 |175   |75    |18      |\n|Benedikt Höwedes         |28 |187   |82    |18      |\n|Domagoj Vida             |27 |184   |73    |18      |\n|Pablo Zabaleta           |31 |177   |76    |18      |\n|Martín Demichelis        |35 |184   |80    |18      |\n|N'Golo Kanté             |25 |169   |68    |18      |\n|Vincent Kompany          |30 |193   |91    |18      |\n|Per Mertesacker          |31 |198   |90    |18      |\n+-------------------------+---+------+------+--------+\nonly showing top 20 rows\n\n"
     ],
     "output_type": "stream"
    }
   ],
   "source": [
    "from pyspark.sql.functions import count, sum, col, desc, lit\n",
    "\n",
    "playersDF.select(\"Name\", \"Age\", \"Height\", \"Weight\", \"Tackling\")\\\n",
    "    .orderBy(col(\"Tackling\").desc())\\\n",
    "    .show(truncate=False)\n"
   ],
   "metadata": {
    "collapsed": false,
    "pycharm": {
     "name": "#%%\n",
     "is_executing": false
    }
   }
  },
  {
   "cell_type": "markdown",
   "source": [
    "\n",
    "### C. Categorize Strikers"
   ],
   "metadata": {
    "collapsed": false
   }
  },
  {
   "cell_type": "code",
   "execution_count": 50,
   "outputs": [
    {
     "name": "stdout",
     "text": [
      "+------------+------+\n|StrikerSkill| Count|\n+------------+------+\n| 1.Excellent| 30656|\n|      2.Good|  7712|\n|    3.Normal|  4585|\n|       4.Bad|116588|\n+------------+------+\n\n"
     ],
     "output_type": "stream"
    }
   ],
   "source": [
    "from pyspark.sql.functions import count, sum, col, desc, lit\n",
    "\n",
    "strikersCategorizationDF = playersDF\\\n",
    "    .select(\"Name\", \"Striker\")\\\n",
    "   .withColumn(\"StrikerSkill\", when(col(\"Striker\")>15,\"1.Excellent\")\\\n",
    "                               .when((col(\"Striker\")>10) & (col(\"Striker\")<=15),\"2.Good\")\\\n",
    "                               .when((col(\"Striker\")>5) & (col(\"Striker\")<=10),\"3.Normal\")\\\n",
    "                               .when((col(\"Striker\")>0) & (col(\"Striker\")<=5),\"4.Bad\")\\\n",
    "                               .otherwise(\"5.Worst\"))\n",
    "    \n",
    "strikersCategorizationDF.cache() # optimization to make the processing faster\n",
    "strikersCategorizationDF.groupBy(\"StrikerSkill\")\\\n",
    "    .agg(count(lit(1)).alias(\"Count\"))\\\n",
    "    .orderBy(col(\"StrikerSkill\").asc())\\\n",
    "    .show()\n"
   ],
   "metadata": {
    "collapsed": false,
    "pycharm": {
     "name": "#%%\n",
     "is_executing": false
    }
   }
  },
  {
   "cell_type": "markdown",
   "source": [
    "\n",
    "\n"
   ],
   "metadata": {
    "collapsed": false
   }
  }
 ],
 "metadata": {
  "language_info": {
   "codemirror_mode": {
    "name": "ipython",
    "version": 2
   },
   "file_extension": ".py",
   "mimetype": "text/x-python",
   "name": "python",
   "nbconvert_exporter": "python",
   "pygments_lexer": "ipython2",
   "version": "2.7.6"
  },
  "kernelspec": {
   "name": "python3",
   "language": "python",
   "display_name": "Python 3"
  },
  "pycharm": {
   "stem_cell": {
    "cell_type": "raw",
    "source": [],
    "metadata": {
     "collapsed": false
    }
   }
  }
 },
 "nbformat": 4,
 "nbformat_minor": 0
}